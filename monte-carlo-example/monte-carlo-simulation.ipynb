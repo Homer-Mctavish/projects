{
 "cells": [
  {
   "cell_type": "markdown",
   "metadata": {},
   "source": [
    "This first cell sets up matplotlib"
   ]
  },
  {
   "cell_type": "code",
   "execution_count": 9,
   "metadata": {},
   "outputs": [],
   "source": [
    "# set the style of plotting we want - uncomment ONE of these only\n",
    "%matplotlib inline\n",
    "#%matplotlib notebook   \n",
    "\n",
    "import matplotlib.pyplot as plt\n",
    "import numpy as np"
   ]
  },
  {
   "cell_type": "markdown",
   "metadata": {},
   "source": [
    "### Demonstration of a scatter plot drawn over a circle"
   ]
  },
  {
   "cell_type": "code",
   "execution_count": 10,
   "metadata": {},
   "outputs": [
    {
     "data": {
      "text/plain": [
       "<matplotlib.collections.PathCollection at 0x7f4ab0f3a8d0>"
      ]
     },
     "execution_count": 10,
     "metadata": {},
     "output_type": "execute_result"
    },
    {
     "data": {
      "image/png": "[encoded data removed]",
      "text/plain": [
       "<Figure size 432x288 with 1 Axes>"
      ]
     },
     "metadata": {
      "needs_background": "light"
     },
     "output_type": "display_data"
    }
   ],
   "source": [
    "fig, ax = plt.subplots()  # Create a figure containing a single axes.\n",
    "\n",
    "# Set the limits and aspect ratios for our unit circle\n",
    "ax.set_xlim(-1, 1)\n",
    "ax.set_ylim(-1, 1)\n",
    "ax.set_aspect('equal')\n",
    "\n",
    "# There is a Matplotlib feature called \"patches\", one of them creates a circle.\n",
    "circ = plt.Circle((0, 0), radius=1, edgecolor='b', facecolor='None')\n",
    "ax.add_patch(circ)\n",
    "\n",
    "# Let's create some sample data:\n",
    "xvals = [0.75, 0, -.8]\n",
    "yvals = [0.25, 0, 0.95]\n",
    "ax.scatter(xvals, yvals, c=\"b\", marker=\"x\")\n"
   ]
  },
  {
   "cell_type": "markdown",
   "metadata": {},
   "source": [
    "### Modified throw_dart() function that returns a list\n",
    "\n",
    "The returned list contains [x, y, hit]"
   ]
  },
  {
   "cell_type": "code",
   "execution_count": 11,
   "metadata": {},
   "outputs": [],
   "source": [
    "import random\n",
    "import math\n",
    "\n",
    "def throw_dart():\n",
    "    \"\"\" Simulates the throwing of a random dart at a 2 x 2 square that.\n",
    "        is centered on the origin. Returns a list with the x, y coordinate\n",
    "        as the first two entries, and the third entry (index 2) entry will be True if the dart hits a circle\n",
    "        inscribed in the square, and False if the dart misses the circle.\n",
    "    \"\"\"\n",
    "    \n",
    "    # pick an x and y value between -1.0 and +1.0 inclusive.\n",
    "    x = random.uniform(-1.0, 1.0)\n",
    "    y = random.uniform(-1.0, 1.0)\n",
    "\n",
    "    # Check if the x and y values are within the unit circle\n",
    "    # This is just the pythagorean theorem a^2 + b^2 = c^2\n",
    "    # Any c^2 less than 1.0 is in the circle of radius 1\n",
    "    \n",
    "    if x**2 + y**2 <= 1.0:\n",
    "        return [x, y, True]\n",
    "    else:\n",
    "        return [x, y, False]    \n",
    "    "
   ]
  },
  {
   "cell_type": "markdown",
   "metadata": {},
   "source": [
    "The test_throw_dart() function demonstrates how to call the modified throw_dart() and \"unpack\" the return values.\n",
    "\n",
    "Notice that the `hit` variable is then used as a condition for the if/else statement"
   ]
  },
  {
   "cell_type": "code",
   "execution_count": 12,
   "metadata": {},
   "outputs": [],
   "source": [
    "def test_throw_dart():\n",
    "    \"\"\" demonstrates the modified throw dart function \"\"\"\n",
    "    \n",
    "    result = throw_dart()    \n",
    "    x = result[0]\n",
    "    y = result[1]\n",
    "    hit = result[2]\n",
    "\n",
    "    if hit:\n",
    "        print(x, y, \"HIT!!!\")\n",
    "    else:\n",
    "        print(x, y, \"MISS!!!\")"
   ]
  },
  {
   "cell_type": "code",
   "execution_count": 13,
   "metadata": {},
   "outputs": [
    {
     "name": "stdout",
     "output_type": "stream",
     "text": [
      "0.28799059366138735 0.3451317761485122 HIT!!!\n",
      "-0.9984717800619576 -0.24528101761135312 MISS!!!\n",
      "-0.035715158411331105 0.8033810137342721 HIT!!!\n",
      "-0.1111981253592993 -0.676066131970962 HIT!!!\n",
      "-0.05503130736574913 0.24902014487899016 HIT!!!\n",
      "0.7858423980029925 0.45547564244942684 HIT!!!\n",
      "-0.5165371956755234 -0.9756937173679294 MISS!!!\n",
      "0.5305284218890445 -0.10170070378203833 HIT!!!\n",
      "-0.29774811544555013 0.5924997167667205 HIT!!!\n",
      "-0.40619089026555 0.387503181359945 HIT!!!\n"
     ]
    }
   ],
   "source": [
    "# demo using the function above\n",
    "for i in range(10):\n",
    "    test_throw_dart()"
   ]
  },
  {
   "cell_type": "markdown",
   "metadata": {},
   "source": [
    "## Complete this function"
   ]
  },
  {
   "cell_type": "code",
   "execution_count": 58,
   "metadata": {},
   "outputs": [],
   "source": [
    "def throw_n_darts(n):\n",
    "    \"\"\" Simulates throwing n darts using the throw_darts function \"\"\"\n",
    "    x_hit = []\n",
    "    y_hit = []\n",
    "    x_miss = []\n",
    "    y_miss = []\n",
    "\n",
    "    # Check if the x and y values are within the unit circle\n",
    "    # This is just the pythagorean theorem a^2 + b^2 = c^2\n",
    "    # Any c^2 less than 1.0 is in the circle of radius 1\n",
    "    for _ in range(n):\n",
    "        x = random.uniform(-1.0, 1.0)\n",
    "        y = random.uniform(-1.0, 1.0)\n",
    "        if x**2 + y**2 <= 1.0:\n",
    "            x_hit.append(x)\n",
    "            y_hit.append(y)\n",
    "        else:\n",
    "            x_miss.append(x)\n",
    "            y_miss.append(y)\n",
    "    # Alternative return statement\n",
    "    # a more compact version of the same code\n",
    "    # return x**2 + y**2 <= 1.0\n",
    "    return [x_miss, y_miss, x_hit, y_hit]"
   ]
  },
  {
   "cell_type": "code",
   "execution_count": 59,
   "metadata": {},
   "outputs": [],
   "source": [
    "# when the above code is completed, you should be able to use it like this:\n",
    "results = throw_n_darts(100)\n",
    "x_miss = results[0]\n",
    "y_miss = results[1]\n",
    "x_hit = results[2]\n",
    "y_hit = results[3]"
   ]
  },
  {
   "cell_type": "markdown",
   "metadata": {},
   "source": [
    "## Copy the matplotlib code from the start of this notebook, and modify it so that it plots the data from the experiment."
   ]
  },
  {
   "cell_type": "code",
   "execution_count": 60,
   "metadata": {
    "scrolled": true
   },
   "outputs": [
    {
     "name": "stderr",
     "output_type": "stream",
     "text": [
      "/home/bodacious/.local/lib/python3.7/site-packages/ipykernel_launcher.py:15: UserWarning: Matplotlib is currently using module://ipykernel.pylab.backend_inline, which is a non-GUI backend, so cannot show the figure.\n",
      "  from ipykernel import kernelapp as app\n"
     ]
    },
    {
     "data": {
      "image/png": "[encoded data removed]",
      "text/plain": [
       "<Figure size 432x288 with 1 Axes>"
      ]
     },
     "metadata": {
      "needs_background": "light"
     },
     "output_type": "display_data"
    }
   ],
   "source": [
    "fig, ax = plt.subplots()  # Create a figure containing a single axes.\n",
    "\n",
    "# Set the limits and aspect ratios for our unit circle\n",
    "ax.set_xlim(-1, 1)\n",
    "ax.set_ylim(-1, 1)\n",
    "ax.set_aspect('equal')\n",
    "\n",
    "# There is a Matplotlib feature called \"patches\", one of them creates a circle.\n",
    "circ = plt.Circle((0, 0), radius=1, edgecolor='b', facecolor='None')\n",
    "ax.add_patch(circ)\n",
    "\n",
    "# Let's create some sample data:\n",
    "ax.scatter(x_hit, y_hit, c=\"b\", marker=\"x\")\n",
    "ax.scatter(x_miss, y_miss, color='r', marker='s')\n",
    "fig.show()"
   ]
  },
  {
   "cell_type": "markdown",
   "metadata": {},
   "source": [
    "## Demo of using timeit module, useful for problem 2"
   ]
  },
  {
   "cell_type": "code",
   "execution_count": 62,
   "metadata": {},
   "outputs": [],
   "source": [
    "\n",
    "import timeit  # you only need this once\n",
    "start_time = timeit.default_timer()\n",
    "throw_n_darts(1000000)\n",
    "\n",
    "elapsed = timeit.default_timer() - start_time"
   ]
  },
  {
   "cell_type": "code",
   "execution_count": 63,
   "metadata": {},
   "outputs": [
    {
     "data": {
      "text/plain": [
       "0.8237717720003275"
      ]
     },
     "execution_count": 63,
     "metadata": {},
     "output_type": "execute_result"
    }
   ],
   "source": [
    "elapsed\n"
   ]
  },
  {
   "cell_type": "code",
   "execution_count": null,
   "metadata": {},
   "outputs": [],
   "source": []
  }
 ],
 "metadata": {
  "kernelspec": {
   "display_name": "Python 3",
   "language": "python",
   "name": "python3"
  },
  "language_info": {
   "codemirror_mode": {
    "name": "ipython",
    "version": 3
   },
   "file_extension": ".py",
   "mimetype": "text/x-python",
   "name": "python",
   "nbconvert_exporter": "python",
   "pygments_lexer": "ipython3",
   "version": "3.7.6"
  }
 },
 "nbformat": 4,
 "nbformat_minor": 2
}
