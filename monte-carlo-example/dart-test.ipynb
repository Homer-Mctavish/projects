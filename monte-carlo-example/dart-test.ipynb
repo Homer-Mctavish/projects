{
 "cells": [
  {
   "cell_type": "code",
   "execution_count": 176,
   "metadata": {},
   "outputs": [
    {
     "data": {
      "text/plain": [
       "'abcdefghijklmnopqrstuvwxyz'"
      ]
     },
     "execution_count": 176,
     "metadata": {},
     "output_type": "execute_result"
    }
   ],
   "source": [
    "# set the style of plotting we want - uncomment ONE of these only\n",
    "%matplotlib inline\n",
    "#%matplotlib notebook   \n",
    "\n",
    "import matplotlib.pyplot as plt\n",
    "import numpy as np\n",
    "import timeit\n",
    "from functools import partial\n",
    "import random\n",
    "import string"
   ]
  },
  {
   "cell_type": "markdown",
   "metadata": {},
   "source": [
    "Importing all of the libraries necessary for both plotting and timing the functions time complexity"
   ]
  },
  {
   "cell_type": "markdown",
   "metadata": {},
   "source": [
    "Below we test various inputs of the function throw_n_darts in order to compare their output for each input"
   ]
  },
  {
   "cell_type": "code",
   "execution_count": 199,
   "metadata": {},
   "outputs": [],
   "source": [
    "def throw_n_darts(n):\n",
    "    x_hit = []\n",
    "    y_hit = []\n",
    "    x_miss = []\n",
    "    y_miss = []\n",
    "    for _ in range(n):\n",
    "        x = random.uniform(-1.0, 1.0)\n",
    "        y = random.uniform(-1.0, 1.0)\n",
    "        if x**2 + y**2 <= 1.0:\n",
    "            x_hit.append(x)\n",
    "            y_hit.append(y)\n",
    "        else:\n",
    "            x_miss.append(x)\n",
    "            y_miss.append(y)\n",
    "    return [x_miss, y_miss, x_hit, y_hit]\n",
    "\n",
    "results = throw_n_darts(2030)\n",
    "x_miss = results[0]\n",
    "y_miss = results[1]\n",
    "x_hit = results[2]\n",
    "y_hit = results[3]"
   ]
  },
  {
   "cell_type": "code",
   "execution_count": 200,
   "metadata": {},
   "outputs": [],
   "source": [
    "def throw_n_darts(n):\n",
    "    x_hit = []\n",
    "    y_hit = []\n",
    "    x_miss = []\n",
    "    y_miss = []\n",
    "    for _ in range(n):\n",
    "        x = random.uniform(-1.0, 1.0)\n",
    "        y = random.uniform(-1.0, 1.0)\n",
    "        if x**2 + y**2 <= 1.0:\n",
    "            x_hit.append(x)\n",
    "            y_hit.append(y)\n",
    "        else:\n",
    "            x_miss.append(x)\n",
    "            y_miss.append(y)\n",
    "    return [x_miss, y_miss, x_hit, y_hit]\n",
    "\n",
    "results = throw_n_darts(10)\n",
    "x_miss = results[0]\n",
    "y_miss = results[1]\n",
    "x_hit = results[2]\n",
    "y_hit = results[3]"
   ]
  },
  {
   "cell_type": "code",
   "execution_count": 201,
   "metadata": {},
   "outputs": [],
   "source": [
    "def throw_n_darts(n):\n",
    "    x_hit = []\n",
    "    y_hit = []\n",
    "    x_miss = []\n",
    "    y_miss = []\n",
    "    for _ in range(n):\n",
    "        x = random.uniform(-1.0, 1.0)\n",
    "        y = random.uniform(-1.0, 1.0)\n",
    "        if x**2 + y**2 <= 1.0:\n",
    "            x_hit.append(x)\n",
    "            y_hit.append(y)\n",
    "        else:\n",
    "            x_miss.append(x)\n",
    "            y_miss.append(y)\n",
    "    return [x_miss, y_miss, x_hit, y_hit]\n",
    "\n",
    "results = throw_n_darts(5246)\n",
    "x_miss = results[0]\n",
    "y_miss = results[1]\n",
    "x_hit = results[2]\n",
    "y_hit = results[3]"
   ]
  },
  {
   "cell_type": "markdown",
   "metadata": {},
   "source": [
    "here we undergo insertion of each prior input into a function of raw time required to compute the function."
   ]
  },
  {
   "cell_type": "code",
   "execution_count": 204,
   "metadata": {},
   "outputs": [],
   "source": [
    "start_time = timeit.default_timer()\n",
    "throw_n_darts(723581)\n",
    "\n",
    "elapsed = timeit.default_timer() - start_time"
   ]
  },
  {
   "cell_type": "code",
   "execution_count": 205,
   "metadata": {},
   "outputs": [],
   "source": [
    "start_time = timeit.default_timer()\n",
    "throw_n_darts(134)\n",
    "\n",
    "elapsed = timeit.default_timer() - start_time"
   ]
  },
  {
   "cell_type": "code",
   "execution_count": 206,
   "metadata": {},
   "outputs": [],
   "source": [
    "start_time = timeit.default_timer()\n",
    "throw_n_darts(439)\n",
    "\n",
    "elapsed = timeit.default_timer() - start_time"
   ]
  },
  {
   "cell_type": "markdown",
   "metadata": {},
   "source": [
    "Testing of first and last characters which are found in the string and returned in the output function compilation"
   ]
  },
  {
   "cell_type": "code",
   "execution_count": 207,
   "metadata": {
    "scrolled": true
   },
   "outputs": [
    {
     "data": {
      "text/plain": [
       "'bc'"
      ]
     },
     "execution_count": 207,
     "metadata": {},
     "output_type": "execute_result"
    }
   ],
   "source": [
    "def first_and_last(values):\n",
    "    firstlast = values[::len(values)-1] \n",
    "    return firstlast\n",
    "first_and_last('beroic')"
   ]
  },
  {
   "cell_type": "code",
   "execution_count": 208,
   "metadata": {},
   "outputs": [
    {
     "data": {
      "text/plain": [
       "'sj'"
      ]
     },
     "execution_count": 208,
     "metadata": {},
     "output_type": "execute_result"
    }
   ],
   "source": [
    "def first_and_last(values):\n",
    "    firstlast = values[::len(values)-1] \n",
    "    return firstlast\n",
    "first_and_last('sdfwmeoj')"
   ]
  },
  {
   "cell_type": "code",
   "execution_count": 209,
   "metadata": {},
   "outputs": [
    {
     "data": {
      "text/plain": [
       "'ak'"
      ]
     },
     "execution_count": 209,
     "metadata": {},
     "output_type": "execute_result"
    }
   ],
   "source": [
    "def first_and_last(values):\n",
    "    firstlast = values[::len(values)-1] \n",
    "    return firstlast\n",
    "first_and_last('asldkvklaafhdfasdfhslk')"
   ]
  },
  {
   "cell_type": "markdown",
   "metadata": {},
   "source": [
    "raw scoring of time taken to compute the first and last character of each string"
   ]
  },
  {
   "cell_type": "code",
   "execution_count": 212,
   "metadata": {},
   "outputs": [],
   "source": [
    "start_time = timeit.default_timer()\n",
    "first_and_last('beroic')\n",
    "\n",
    "elapsed = timeit.default_timer() - start_time"
   ]
  },
  {
   "cell_type": "code",
   "execution_count": 213,
   "metadata": {},
   "outputs": [],
   "source": [
    "start_time = timeit.default_timer()\n",
    "first_and_last('asldkvklaafhdfasdfhslk')\n",
    "\n",
    "elapsed = timeit.default_timer() - start_time"
   ]
  },
  {
   "cell_type": "code",
   "execution_count": 214,
   "metadata": {},
   "outputs": [],
   "source": [
    "start_time = timeit.default_timer()\n",
    "first_and_last('sdfwmeoj')\n",
    "\n",
    "elapsed = timeit.default_timer() - start_time"
   ]
  },
  {
   "cell_type": "markdown",
   "metadata": {},
   "source": [
    "computation of various values by which a chosen integer is cubed."
   ]
  },
  {
   "cell_type": "code",
   "execution_count": 215,
   "metadata": {},
   "outputs": [
    {
     "data": {
      "text/plain": [
       "39442883264"
      ]
     },
     "execution_count": 215,
     "metadata": {},
     "output_type": "execute_result"
    }
   ],
   "source": [
    "def cube(t):\n",
    "    y = t**3\n",
    "    return y\n",
    "cube(3404)"
   ]
  },
  {
   "cell_type": "code",
   "execution_count": 216,
   "metadata": {},
   "outputs": [
    {
     "data": {
      "text/plain": [
       "12316788514584"
      ]
     },
     "execution_count": 216,
     "metadata": {},
     "output_type": "execute_result"
    }
   ],
   "source": [
    "def cube(t):\n",
    "    y = t**3\n",
    "    return y\n",
    "cube(23094)"
   ]
  },
  {
   "cell_type": "code",
   "execution_count": 217,
   "metadata": {},
   "outputs": [
    {
     "data": {
      "text/plain": [
       "79507"
      ]
     },
     "execution_count": 217,
     "metadata": {},
     "output_type": "execute_result"
    }
   ],
   "source": [
    "def cube(t):\n",
    "    y = t**3\n",
    "    return y\n",
    "cube(43)"
   ]
  },
  {
   "cell_type": "markdown",
   "metadata": {},
   "source": [
    "computation of the raw ammount of time it takes to compute the cube of the integers"
   ]
  },
  {
   "cell_type": "code",
   "execution_count": 218,
   "metadata": {},
   "outputs": [],
   "source": [
    "start_time = timeit.default_timer()\n",
    "cube(3404)\n",
    "\n",
    "elapsed = timeit.default_timer() - start_time"
   ]
  },
  {
   "cell_type": "code",
   "execution_count": 219,
   "metadata": {},
   "outputs": [],
   "source": [
    "start_time = timeit.default_timer()\n",
    "cube(23094)\n",
    "\n",
    "elapsed = timeit.default_timer() - start_time"
   ]
  },
  {
   "cell_type": "code",
   "execution_count": 220,
   "metadata": {},
   "outputs": [],
   "source": [
    "start_time = timeit.default_timer()\n",
    "cube(43)\n",
    "\n",
    "elapsed = timeit.default_timer() - start_time"
   ]
  },
  {
   "cell_type": "markdown",
   "metadata": {},
   "source": [
    "definition of test functions for iteration over inputs of each function, along with list to capture each iteration while the value of the return for each function is smaller than the maximum value of N range."
   ]
  },
  {
   "cell_type": "code",
   "execution_count": 221,
   "metadata": {},
   "outputs": [
    {
     "data": {
      "image/png": "[encoded data removed]",
      "text/plain": [
       "<Figure size 432x288 with 1 Axes>"
      ]
     },
     "metadata": {
      "needs_background": "light"
     },
     "output_type": "display_data"
    }
   ],
   "source": [
    "def Test_first_and_last(N):\n",
    "    for i in range(N):\n",
    "        firstlast = range(N)[::len(range(N))-1] \n",
    "    return firstlast\n",
    "\n",
    "def Test_cubed(N):\n",
    "    for i in range(N):\n",
    "            x = i**3\n",
    "            \n",
    "def Test_throw_n_darts(N):\n",
    "    x_hit = []\n",
    "    y_hit = []\n",
    "    x_miss = []\n",
    "    y_miss = []\n",
    "\n",
    "    for i in range(N):\n",
    "        x = random.uniform(-1.0, 1.0)\n",
    "        y = random.uniform(-1.0, 1.0)\n",
    "        if x**2 + y**2 <= 1.0:\n",
    "            x_hit.append(x)\n",
    "            y_hit.append(y)\n",
    "        else:\n",
    "            x_miss.append(x)\n",
    "            y_miss.append(y)\n",
    "    return [x_miss, y_miss, x_hit, y_hit]\n",
    "\n",
    "def plotter(function, minimum, maximum, increment, testy):\n",
    "    x = []\n",
    "    y = []\n",
    "    for i in range(minimum, maximum, increment):\n",
    "        N = i\n",
    "        testtimer = timeit.Timer(partial(function, N))\n",
    "        t = testtimer.timeit(number=testy)\n",
    "        x.append(i)\n",
    "        y.append(t)\n",
    "    p1 = plt.plot(x, y, 'o')\n",
    "\n",
    "def main():\n",
    "    plotter(Test_cubed, 10, 1000, 10, 10)\n",
    "    plotter(Test_first_and_last, 10, 1000, 10, 10)\n",
    "    plotTC(Test_throw_n_darts, 10, 1000, 10, 10)\n",
    "    plt.show()\n",
    "\n",
    "main()"
   ]
  }
 ],
 "metadata": {
  "kernelspec": {
   "display_name": "Python 3",
   "language": "python",
   "name": "python3"
  },
  "language_info": {
   "codemirror_mode": {
    "name": "ipython",
    "version": 3
   },
   "file_extension": ".py",
   "mimetype": "text/x-python",
   "name": "python",
   "nbconvert_exporter": "python",
   "pygments_lexer": "ipython3",
   "version": "3.7.6"
  }
 },
 "nbformat": 4,
 "nbformat_minor": 2
}
